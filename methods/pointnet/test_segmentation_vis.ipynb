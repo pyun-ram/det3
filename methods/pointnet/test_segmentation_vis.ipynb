{
 "cells": [
  {
   "cell_type": "code",
   "execution_count": 51,
   "metadata": {},
   "outputs": [],
   "source": [
    "'''\n",
    "File Created: Monday, 12th August 2019 1:19:00 pm\n",
    "Author: Peng YUN (pyun@ust.hk)\n",
    "Copyright 2018 - 2019 RAM-Lab, RAM-Lab\n",
    "'''\n",
    "import open3d as o3\n",
    "from open3d import JVisualizer\n",
    "from IPython.display import clear_output\n",
    "import warnings\n",
    "import os\n",
    "import math\n",
    "import torch\n",
    "import torch.nn as nn\n",
    "import torch.backends.cudnn as cudnn\n",
    "from PIL import Image, ImageDraw\n",
    "import numpy as np\n",
    "from tqdm import tqdm\n",
    "from det3.methods.pointnet.model import PointNetDenseCls, feature_transform_regularizer\n",
    "from det3.methods.pointnet.config import cfg\n",
    "from det3.methods.pointnet.dataset import ShapeNetDataset"
   ]
  },
  {
   "cell_type": "code",
   "execution_count": 52,
   "metadata": {},
   "outputs": [],
   "source": [
    "cfg.train_dict[\"RESUME\"] = '/usr/app/det3/methods/pointnet/saved_weights/PointNet-Seg-000A/2.pth.tar'"
   ]
  },
  {
   "cell_type": "code",
   "execution_count": 79,
   "metadata": {
    "scrolled": true
   },
   "outputs": [
    {
     "name": "stdout",
     "output_type": "stream",
     "text": [
      "{'Chair': 0}\n",
      "{'Airplane': 4, 'Bag': 2, 'Cap': 2, 'Car': 4, 'Chair': 4, 'Earphone': 3, 'Guitar': 3, 'Knife': 2, 'Lamp': 4, 'Laptop': 2, 'Motorbike': 6, 'Mug': 2, 'Pistol': 3, 'Rocket': 3, 'Skateboard': 3, 'Table': 3} 4\n",
      "Use GPU: 0 for training\n",
      "=> loading checkpoint '/usr/app/det3/methods/pointnet/saved_weights/PointNet-Seg-000A/2.pth.tar'\n",
      "=> loaded checkpoint '/usr/app/det3/methods/pointnet/saved_weights/PointNet-Seg-000A/2.pth.tar' (epoch 3)\n"
     ]
    },
    {
     "name": "stderr",
     "output_type": "stream",
     "text": [
      "/opt/conda/lib/python3.7/site-packages/ipykernel_launcher.py:11: UserWarning: You have chosen a specific GPU. This will completely disable data parallelism.\n",
      "  # This is added back by InteractiveShellApp.init_path()\n"
     ]
    }
   ],
   "source": [
    "test_dataset = ShapeNetDataset(\n",
    "    root=cfg.data_dict[\"DATA_DIR\"],\n",
    "    classification=False,\n",
    "    class_choice=[cfg.data_dict[\"CLASS_CHOICE\"]],\n",
    "    split='test',\n",
    "    data_augmentation=False)\n",
    "\n",
    "model = PointNetDenseCls(k=test_dataset.num_seg_classes,\n",
    "                    feature_transform=cfg.model_dict[\"FEATURE_TRANSFORM\"])\n",
    "if cfg.task_dict[\"GPU\"] is not None:\n",
    "    warnings.warn('You have chosen a specific GPU. This will completely '\n",
    "                  'disable data parallelism.')\n",
    "    print(\"Use GPU: {} for training\".format(cfg.task_dict[\"GPU\"]))\n",
    "    torch.cuda.set_device(cfg.task_dict[\"GPU\"])\n",
    "    model = model.cuda(cfg.task_dict[\"GPU\"])\n",
    "else:\n",
    "    model = torch.nn.DataParallel(model).cuda()\n",
    "\n",
    "if cfg.train_dict[\"RESUME\"]:\n",
    "    if os.path.isfile(cfg.train_dict[\"RESUME\"]):\n",
    "        print(\"=> loading checkpoint '{}'\".format(cfg.train_dict[\"RESUME\"]))\n",
    "        checkpoint = torch.load(cfg.train_dict[\"RESUME\"])\n",
    "        cfg.train_dict[\"START_EPOCH\"] = checkpoint['epoch']\n",
    "        best_loss1 = checkpoint['best_loss1']\n",
    "        model.load_state_dict(checkpoint['state_dict'])\n",
    "        print(\"=> loaded checkpoint '{}' (epoch {})\"\n",
    "                   .format(cfg.train_dict[\"RESUME\"], checkpoint['epoch']))\n",
    "    else:\n",
    "        print(\"=> no checkpoint found at '{}'\".format(cfg.train_dict[\"RESUME\"]))\n",
    "cudnn.benchmark = True\n",
    "\n",
    "# cls2ind = {'Airplane': 0, 'Bag': 1, 'Cap': 2,\n",
    "#            'Car': 3, 'Chair': 4, 'Earphone': 5,\n",
    "#            'Guitar': 6, 'Knife': 7, 'Lamp': 8,\n",
    "#            'Laptop': 9, 'Motorbike': 10, 'Mug': 11,\n",
    "#            'Pistol': 12, 'Rocket': 13, 'Skateboard': 14,\n",
    "#            'Table': 15}\n",
    "# ind2cls = dict()\n",
    "# for k,v in cls2ind.items():\n",
    "#     ind2cls[v] = k\n",
    "idx2rgb = {\n",
    "    0 : [255, 0, 0],\n",
    "    1 : [0, 255, 0],\n",
    "    2 : [0, 0, 255],\n",
    "    3 : [0, 255, 255],\n",
    "}"
   ]
  },
  {
   "cell_type": "code",
   "execution_count": 80,
   "metadata": {},
   "outputs": [],
   "source": [
    "def vis(idx):\n",
    "    model.eval()\n",
    "    with torch.no_grad():\n",
    "        points, target = test_dataset[idx]\n",
    "        points = points.unsqueeze(0)\n",
    "        points = points.transpose(2, 1)\n",
    "        if cfg.task_dict[\"GPU\"] is not None:\n",
    "            points = points.contiguous().cuda(cfg.task_dict[\"GPU\"], non_blocking=True)\n",
    "            target = target.contiguous().cuda(cfg.task_dict[\"GPU\"], non_blocking=True)\n",
    "        current_batch_size = points.shape[0]\n",
    "        pred, _, _ = model(points)\n",
    "        pred = pred.view(-1, test_dataset.num_seg_classes)\n",
    "        pred_choice = pred.data.max(1)[1]\n",
    "        pred_np = pred_choice.cpu().data.numpy()\n",
    "        target = target.view(-1, 1)[:, 0] - 1\n",
    "        target_np = target.cpu().data.numpy()\n",
    "        print(pred_np.shape, np.unique(pred_np))\n",
    "        print(target_np.shape, np.unique(target_np))\n",
    "\n",
    "        fragment = o3.PointCloud()\n",
    "        pc = points.transpose(2, 1)[0].cpu().numpy()\n",
    "        pc = np.vstack([pc,\n",
    "                        pc + np.array([1.5, 0, 0]).reshape(1, -1)])\n",
    "        colors = np.zeros((pc.shape[0]*2, 3))\n",
    "        \n",
    "        for i, v in enumerate(tqdm(pred_np)):\n",
    "            colors[i, :] = idx2rgb[v]\n",
    "        for i, v in enumerate(tqdm(target_np)):\n",
    "            colors[i+target_np.shape[0], :] = idx2rgb[v]\n",
    "        clear_output()\n",
    "        fragment.points = o3.utility.Vector3dVector(pc)\n",
    "        fragment.colors = o3.utility.Vector3dVector(colors)\n",
    "        visualizer = JVisualizer()\n",
    "        visualizer.add_geometry(fragment)\n",
    "        visualizer.show()\n",
    "    "
   ]
  },
  {
   "cell_type": "code",
   "execution_count": null,
   "metadata": {},
   "outputs": [
    {
     "data": {
      "application/vnd.jupyter.widget-view+json": {
       "model_id": "db9e95247421462fb2cce289f7c94a13",
       "version_major": 2,
       "version_minor": 0
      },
      "text/plain": [
       "JVisualizer with 1 geometries"
      ]
     },
     "metadata": {},
     "output_type": "display_data"
    }
   ],
   "source": [
    "for i in range(3000):\n",
    "    vis(i)\n",
    "    input()"
   ]
  },
  {
   "cell_type": "code",
   "execution_count": null,
   "metadata": {},
   "outputs": [],
   "source": []
  }
 ],
 "metadata": {
  "kernelspec": {
   "display_name": "Python 3",
   "language": "python",
   "name": "python3"
  },
  "language_info": {
   "codemirror_mode": {
    "name": "ipython",
    "version": 3
   },
   "file_extension": ".py",
   "mimetype": "text/x-python",
   "name": "python",
   "nbconvert_exporter": "python",
   "pygments_lexer": "ipython3",
   "version": "3.7.3"
  }
 },
 "nbformat": 4,
 "nbformat_minor": 2
}
