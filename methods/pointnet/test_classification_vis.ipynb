{
 "cells": [
  {
   "cell_type": "code",
   "execution_count": 12,
   "metadata": {},
   "outputs": [],
   "source": [
    "'''\n",
    "File Created: Monday, 12th August 2019 1:19:00 pm\n",
    "Author: Peng YUN (pyun@ust.hk)\n",
    "Copyright 2018 - 2019 RAM-Lab, RAM-Lab\n",
    "'''\n",
    "import open3d as o3\n",
    "from open3d import JVisualizer\n",
    "from IPython.display import clear_output\n",
    "import warnings\n",
    "import os\n",
    "import math\n",
    "import torch\n",
    "import torch.nn as nn\n",
    "import torch.backends.cudnn as cudnn\n",
    "from PIL import Image, ImageDraw\n",
    "import numpy as np\n",
    "from det3.methods.pointnet.model import PointNetCls, feature_transform_regularizer\n",
    "from det3.methods.pointnet.config import cfg\n",
    "from det3.methods.pointnet.dataset import ShapeNetDataset"
   ]
  },
  {
   "cell_type": "code",
   "execution_count": 13,
   "metadata": {},
   "outputs": [],
   "source": [
    "cfg.train_dict[\"RESUME\"] = '/usr/app/det3/methods/pointnet/saved_weights/PointNet-000A/10.pth.tar'"
   ]
  },
  {
   "cell_type": "code",
   "execution_count": 14,
   "metadata": {
    "scrolled": true
   },
   "outputs": [
    {
     "name": "stdout",
     "output_type": "stream",
     "text": [
      "Use GPU: 0 for training\n",
      "=> loading checkpoint '/usr/app/det3/methods/pointnet/saved_weights/PointNet-000A/10.pth.tar'\n",
      "=> loaded checkpoint '/usr/app/det3/methods/pointnet/saved_weights/PointNet-000A/10.pth.tar' (epoch 11)\n",
      "{'Airplane': 0, 'Bag': 1, 'Cap': 2, 'Car': 3, 'Chair': 4, 'Earphone': 5, 'Guitar': 6, 'Knife': 7, 'Lamp': 8, 'Laptop': 9, 'Motorbike': 10, 'Mug': 11, 'Pistol': 12, 'Rocket': 13, 'Skateboard': 14, 'Table': 15}\n",
      "{'Airplane': 4, 'Bag': 2, 'Cap': 2, 'Car': 4, 'Chair': 4, 'Earphone': 3, 'Guitar': 3, 'Knife': 2, 'Lamp': 4, 'Laptop': 2, 'Motorbike': 6, 'Mug': 2, 'Pistol': 3, 'Rocket': 3, 'Skateboard': 3, 'Table': 3} 4\n"
     ]
    },
    {
     "name": "stderr",
     "output_type": "stream",
     "text": [
      "/opt/conda/lib/python3.7/site-packages/ipykernel_launcher.py:4: UserWarning: You have chosen a specific GPU. This will completely disable data parallelism.\n",
      "  after removing the cwd from sys.path.\n"
     ]
    }
   ],
   "source": [
    "model = PointNetCls(k=cfg.model_dict[\"K\"],\n",
    "                    feature_transform=cfg.model_dict[\"FEATURE_TRANSFORM\"])\n",
    "if cfg.task_dict[\"GPU\"] is not None:\n",
    "    warnings.warn('You have chosen a specific GPU. This will completely '\n",
    "                  'disable data parallelism.')\n",
    "    print(\"Use GPU: {} for training\".format(cfg.task_dict[\"GPU\"]))\n",
    "    torch.cuda.set_device(cfg.task_dict[\"GPU\"])\n",
    "    model = model.cuda(cfg.task_dict[\"GPU\"])\n",
    "else:\n",
    "    model = torch.nn.DataParallel(model).cuda()\n",
    "\n",
    "if cfg.train_dict[\"RESUME\"]:\n",
    "    if os.path.isfile(cfg.train_dict[\"RESUME\"]):\n",
    "        print(\"=> loading checkpoint '{}'\".format(cfg.train_dict[\"RESUME\"]))\n",
    "        checkpoint = torch.load(cfg.train_dict[\"RESUME\"])\n",
    "        cfg.train_dict[\"START_EPOCH\"] = checkpoint['epoch']\n",
    "        best_loss1 = checkpoint['best_loss1']\n",
    "        model.load_state_dict(checkpoint['state_dict'])\n",
    "        print(\"=> loaded checkpoint '{}' (epoch {})\"\n",
    "                   .format(cfg.train_dict[\"RESUME\"], checkpoint['epoch']))\n",
    "    else:\n",
    "        print(\"=> no checkpoint found at '{}'\".format(cfg.train_dict[\"RESUME\"]))\n",
    "cudnn.benchmark = True\n",
    "\n",
    "test_dataset = ShapeNetDataset(\n",
    "    root=cfg.data_dict[\"DATA_DIR\"],\n",
    "    classification=True,\n",
    "    split='test',\n",
    "    npoints=cfg.data_dict[\"NUM_POINTS\"],\n",
    "    data_augmentation=False)\n",
    "\n",
    "cls2ind = {'Airplane': 0, 'Bag': 1, 'Cap': 2,\n",
    "           'Car': 3, 'Chair': 4, 'Earphone': 5,\n",
    "           'Guitar': 6, 'Knife': 7, 'Lamp': 8,\n",
    "           'Laptop': 9, 'Motorbike': 10, 'Mug': 11,\n",
    "           'Pistol': 12, 'Rocket': 13, 'Skateboard': 14,\n",
    "           'Table': 15}\n",
    "ind2cls = dict()\n",
    "for k,v in cls2ind.items():\n",
    "    ind2cls[v] = k"
   ]
  },
  {
   "cell_type": "code",
   "execution_count": 15,
   "metadata": {},
   "outputs": [],
   "source": [
    "def vis(idx):\n",
    "    model.eval()\n",
    "    with torch.no_grad():\n",
    "        points, target = test_dataset[idx]\n",
    "        points = points.unsqueeze(0)\n",
    "        points = points.transpose(2, 1)\n",
    "        if cfg.task_dict[\"GPU\"] is not None:\n",
    "            points = points.contiguous().cuda(cfg.task_dict[\"GPU\"], non_blocking=True)\n",
    "            target = target.contiguous().cuda(cfg.task_dict[\"GPU\"], non_blocking=True)\n",
    "        current_batch_size = points.shape[0]\n",
    "        pred, _, _ = model(points)\n",
    "        pred_choice = pred.data.max(1)[1]\n",
    "        correct = pred_choice.eq(target.data).cpu().sum()\n",
    "\n",
    "        est = ind2cls[int(pred_choice[0].cpu().numpy())]\n",
    "        gt = ind2cls[int(target[0].cpu().numpy())]\n",
    "        print(\"{}, Target: {}, Est: {}\".format(idx, gt, est))\n",
    "        fragment = o3.PointCloud()\n",
    "        fragment.points = o3.utility.Vector3dVector(points.transpose(2, 1)[0].cpu().numpy())\n",
    "        visualizer = JVisualizer()\n",
    "        visualizer.add_geometry(fragment)\n",
    "        visualizer.show()\n",
    "    "
   ]
  },
  {
   "cell_type": "code",
   "execution_count": 16,
   "metadata": {},
   "outputs": [
    {
     "name": "stdout",
     "output_type": "stream",
     "text": [
      "0, Target: Airplane, Est: Airplane\n"
     ]
    },
    {
     "data": {
      "application/vnd.jupyter.widget-view+json": {
       "model_id": "c43953ac000147cc9af44c31631580df",
       "version_major": 2,
       "version_minor": 0
      },
      "text/plain": [
       "JVisualizer with 1 geometries"
      ]
     },
     "metadata": {},
     "output_type": "display_data"
    }
   ],
   "source": [
    "vis(0)"
   ]
  },
  {
   "cell_type": "code",
   "execution_count": null,
   "metadata": {},
   "outputs": [],
   "source": []
  }
 ],
 "metadata": {
  "kernelspec": {
   "display_name": "Python 3",
   "language": "python",
   "name": "python3"
  },
  "language_info": {
   "codemirror_mode": {
    "name": "ipython",
    "version": 3
   },
   "file_extension": ".py",
   "mimetype": "text/x-python",
   "name": "python",
   "nbconvert_exporter": "python",
   "pygments_lexer": "ipython3",
   "version": "3.7.3"
  }
 },
 "nbformat": 4,
 "nbformat_minor": 2
}
